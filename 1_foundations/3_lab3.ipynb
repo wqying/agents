{
 "cells": [
  {
   "cell_type": "markdown",
   "metadata": {},
   "source": [
    "## Welcome to Lab 3 for Week 1 Day 4\n",
    "\n",
    "Today we're going to build something with immediate value!\n",
    "\n",
    "In the folder `me` I've put a single file `linkedin.pdf` - it's a PDF download of my LinkedIn profile.\n",
    "\n",
    "Please replace it with yours!\n",
    "\n",
    "I've also made a file called `summary.txt`\n",
    "\n",
    "We're not going to use Tools just yet - we're going to add the tool tomorrow."
   ]
  },
  {
   "cell_type": "markdown",
   "metadata": {},
   "source": [
    "<table style=\"margin: 0; text-align: left; width:100%\">\n",
    "    <tr>\n",
    "        <td style=\"width: 150px; height: 150px; vertical-align: middle;\">\n",
    "            <img src=\"../assets/tools.png\" width=\"150\" height=\"150\" style=\"display: block;\" />\n",
    "        </td>\n",
    "        <td>\n",
    "            <h2 style=\"color:#00bfff;\">Looking up packages</h2>\n",
    "            <span style=\"color:#00bfff;\">In this lab, we're going to use the wonderful Gradio package for building quick UIs, \n",
    "            and we're also going to use the popular PyPDF PDF reader. You can get guides to these packages by asking \n",
    "            ChatGPT or Claude, and you find all open-source packages on the repository <a href=\"https://pypi.org\">https://pypi.org</a>.\n",
    "            </span>\n",
    "        </td>\n",
    "    </tr>\n",
    "</table>"
   ]
  },
  {
   "cell_type": "code",
   "execution_count": 1,
   "metadata": {},
   "outputs": [],
   "source": [
    "# If you don't know what any of these packages do - you can always ask ChatGPT for a guide!\n",
    "\n",
    "from dotenv import load_dotenv\n",
    "from openai import OpenAI\n",
    "from pypdf import PdfReader\n",
    "import gradio as gr"
   ]
  },
  {
   "cell_type": "code",
   "execution_count": 2,
   "metadata": {},
   "outputs": [],
   "source": [
    "load_dotenv(override=True)\n",
    "openai = OpenAI()"
   ]
  },
  {
   "cell_type": "code",
   "execution_count": null,
   "metadata": {},
   "outputs": [],
   "source": [
    "reader = PdfReader(\"me/Profile.pdf\")  # provide resources for the agent for context\n",
    "linkedin = \"\"\n",
    "for page in reader.pages:\n",
    "    text = page.extract_text()\n",
    "    if text:\n",
    "        linkedin += text"
   ]
  },
  {
   "cell_type": "code",
   "execution_count": 4,
   "metadata": {},
   "outputs": [
    {
     "name": "stdout",
     "output_type": "stream",
     "text": [
      "   \n",
      "Contact\n",
      "29267 Arroyo Dr\n",
      "9493168073 (Mobile)\n",
      "qianyingwong@gmail.com\n",
      "www.linkedin.com/in/qywong03\n",
      "(LinkedIn)\n",
      "Top Skills\n",
      "Object-Oriented Programming\n",
      "(OOP)\n",
      "REST APIs\n",
      "Tkinter\n",
      "Languages\n",
      "Chinese (Native or Bilingual)\n",
      "Malay (Limited Working)\n",
      "English (Native or Bilingual)\n",
      "Qianying Wong\n",
      "AI Intern @ AMD | Cognitive Robotics Lab | Spatial Neuroscience\n",
      "Lab\n",
      "Irvine, California, United States\n",
      "Summary\n",
      "Hi all, Ying here! \n",
      "I'm entering my fourth and final year at UC Irvine as a Cognitive\n",
      "Science and Computer Science student. My unique academic\n",
      "expertise has helped me gain experience in machine learning,\n",
      "neuroscience research, software engineering, robotics, and game\n",
      "development.\n",
      "Currently, I am an intern at Advanced Micro Devices (AMD)\n",
      "developing AI Agents to boost productivity and automate engineering\n",
      "workflows. \n",
      "Outside of school and work, I run a lion dance team in Orange\n",
      "County. Culture is important to me.\n",
      "+ ‍  +   = Ying\n",
      "Experience\n",
      "AMD\n",
      "Artificial Intelligence Intern\n",
      "June 2025 - Present (2 months)\n",
      "Austin, Texas, United States\n",
      "Developing an AI Agent using frontier model APIs to automate engineering\n",
      "workflows and leveraging LLMs to boost software development productivity,\n",
      "improving functionality of internal tools.\n",
      "UC Irvine Donald Bren School of Information and Computer\n",
      "Sciences\n",
      "Learning Assistant\n",
      "March 2025 - Present (5 months)\n",
      "Irvine, California, United States\n",
      "  Page 1 of 3   \n",
      "Introduced computer science students to the Python programming language\n",
      "and its libraries, as well as software development concepts.\n",
      "Topics taught: OOP, Tkinter, REST APIs, HTTP\n",
      "UC Irvine\n",
      "2 years 11 months\n",
      "Machine Learning Research Assistant\n",
      "September 2024 - Present (11 months)\n",
      "Irvine, California, United States\n",
      "Developed the cognitive architecture of a biomimetic robot in Python. Used\n",
      "reinforcement learning techniques to train the neurorobot. Presented the\n",
      "CuttleBot project at the annual UCI UROP Symposium.\n",
      "Data Science Research Assistant\n",
      "September 2022 - Present (2 years 11 months)\n",
      "California, United States\n",
      "Collected, analyzed, and cleaned up data for over 100 human participants in a\n",
      "VR research experiment using Python NumPy and Rstudio. Co-hosted “Unity\n",
      "in VR for research” workshop, and taught 20+ graduate students the basics of\n",
      "Unity engine.\n",
      "Cognitive Science Association at UCI\n",
      "Secretary\n",
      "June 2024 - Present (1 year 2 months)\n",
      "Irvine, California, United States\n",
      "Maintained accurate records of meetings minutes, facilitating communication\n",
      "and accountability within the organization, and hosted events that contribute to\n",
      "the cognitive science community at UCI.\n",
      "Gió Nam Múa Lân (Southern Wind Lion Dance)\n",
      "Coordinator\n",
      "September 2024 - Present (11 months)\n",
      "Irvine, California, United States\n",
      "Oversee all logistical aspects of the team, from handling clients to scheduling\n",
      "performers, ensuring professionalism and quality of performances.\n",
      "UCI Center for Student Leadership\n",
      "SPOP Orientation Leader\n",
      "April 2023 - October 2024 (1 year 7 months)\n",
      "California, United States\n",
      "  Page 2 of 3   \n",
      "Provided guidance and introduced campus resources to 5000+ new students\n",
      "over the course of 7 orientation sessions, including acting as resident advisor\n",
      "for dorms of 50+ students in the overnight program\n",
      "UC Irvine Athletics\n",
      "Event Staff\n",
      "October 2022 - September 2023 (1 year)\n",
      "United States\n",
      "Coordinated with head coaches and student athletes to ensure smooth\n",
      "operation of games\n",
      "Foon Yew High School 宽柔中学\n",
      "Vice President of Drama Club\n",
      "June 2018 - December 2021 (3 years 7 months)\n",
      "Malaysia\n",
      "Served 100+ club members.\n",
      "Education\n",
      "UC Irvine\n",
      "Bachelor of Science - BS, Cognitive Science · (September 2022 - June 2026)\n",
      "Foon Yew High School 宽柔中学\n",
      "High School Diploma, Sciences · (January 2019 - December 2021)\n",
      "  Page 3 of 3\n"
     ]
    }
   ],
   "source": [
    "print(linkedin)"
   ]
  },
  {
   "cell_type": "code",
   "execution_count": 4,
   "metadata": {},
   "outputs": [],
   "source": [
    "with open(\"me/summary.txt\", \"r\", encoding=\"utf-8\") as f:\n",
    "    summary = f.read()"
   ]
  },
  {
   "cell_type": "code",
   "execution_count": 5,
   "metadata": {},
   "outputs": [],
   "source": [
    "name = \"Qianying Wong\""
   ]
  },
  {
   "cell_type": "code",
   "execution_count": 6,
   "metadata": {},
   "outputs": [],
   "source": [
    "system_prompt = f\"You are acting as {name}. You are answering questions on {name}'s website, \\\n",
    "particularly questions related to {name}'s career, background, skills and experience. \\\n",
    "Your responsibility is to represent {name} for interactions on the website as faithfully as possible. \\\n",
    "You are given a summary of {name}'s background and LinkedIn profile which you can use to answer questions. \\\n",
    "Be professional and engaging, as if talking to a potential client or future employer who came across the website. \\\n",
    "If you don't know the answer, say so.\"\n",
    "\n",
    "system_prompt += f\"\\n\\n## Summary:\\n{summary}\\n\\n## LinkedIn Profile:\\n{linkedin}\\n\\n\"\n",
    "system_prompt += f\"With this context, please chat with the user, always staying in character as {name}.\"\n",
    "\n",
    "# system prompt is what you're telling the model as background context\n",
    "# important to tell the model if they don't know the answer, they should say so to prevent hallucination\n"
   ]
  },
  {
   "cell_type": "code",
   "execution_count": 7,
   "metadata": {},
   "outputs": [
    {
     "data": {
      "text/plain": [
       "\"You are acting as Qianying Wong. You are answering questions on Qianying Wong's website, particularly questions related to Qianying Wong's career, background, skills and experience. Your responsibility is to represent Qianying Wong for interactions on the website as faithfully as possible. You are given a summary of Qianying Wong's background and LinkedIn profile which you can use to answer questions. Be professional and engaging, as if talking to a potential client or future employer who came across the website. If you don't know the answer, say so.\\n\\n## Summary:\\nHi all, Ying here! \\n\\nI'm entering my fourth and final year at UC Irvine as a Cognitive Science and Computer Science student. My unique academic expertise has helped me gain experience in machine learning, neuroscience research, software engineering, robotics, and game development.\\n\\nCurrently, I am an intern at Advanced Micro Devices (AMD) developing AI Agents to boost productivity and automate engineering workflows. \\n\\nOutside of school and work, I run a lion dance team in Orange County. Culture is important to me.\\n\\n🧠 + 👩\\u200d💻 + 🦁 = Ying\\n\\n## LinkedIn Profile:\\n\\xa0 \\xa0\\nContact\\n29267 Arroyo Dr\\n9493168073 (Mobile)\\nqianyingwong@gmail.com\\nwww.linkedin.com/in/qywong03\\n(LinkedIn)\\nTop Skills\\nObject-Oriented Programming\\n(OOP)\\nREST APIs\\nTkinter\\nLanguages\\nChinese (Native or Bilingual)\\nMalay (Limited Working)\\nEnglish (Native or Bilingual)\\nQianying Wong\\nAI Intern @ AMD | Cognitive Robotics Lab | Spatial Neuroscience\\nLab\\nIrvine, California, United States\\nSummary\\nHi all, Ying here! \\nI'm entering my fourth and final year at UC Irvine as a Cognitive\\nScience and Computer Science student. My unique academic\\nexpertise has helped me gain experience in machine learning,\\nneuroscience research, software engineering, robotics, and game\\ndevelopment.\\nCurrently, I am an intern at Advanced Micro Devices (AMD)\\ndeveloping AI Agents to boost productivity and automate engineering\\nworkflows. \\nOutside of school and work, I run a lion dance team in Orange\\nCounty. Culture is important to me.\\n+ \\u200d  +   = Ying\\nExperience\\nAMD\\nArtificial Intelligence Intern\\nJune 2025\\xa0-\\xa0Present\\xa0(2 months)\\nAustin, Texas, United States\\nDeveloping an AI Agent using frontier model APIs to automate engineering\\nworkflows and leveraging LLMs to boost software development productivity,\\nimproving functionality of internal tools.\\nUC Irvine Donald Bren School of Information and Computer\\nSciences\\nLearning Assistant\\nMarch 2025\\xa0-\\xa0Present\\xa0(5 months)\\nIrvine, California, United States\\n\\xa0 Page 1 of 3\\xa0 \\xa0\\nIntroduced computer science students to the Python programming language\\nand its libraries, as well as software development concepts.\\nTopics taught: OOP, Tkinter, REST APIs, HTTP\\nUC Irvine\\n2 years 11 months\\nMachine Learning Research Assistant\\nSeptember 2024\\xa0-\\xa0Present\\xa0(11 months)\\nIrvine, California, United States\\nDeveloped the cognitive architecture of a biomimetic robot in Python. Used\\nreinforcement learning techniques to train the neurorobot. Presented the\\nCuttleBot project at the annual UCI UROP Symposium.\\nData Science Research Assistant\\nSeptember 2022\\xa0-\\xa0Present\\xa0(2 years 11 months)\\nCalifornia, United States\\nCollected, analyzed, and cleaned up data for over 100 human participants in a\\nVR research experiment using Python NumPy and Rstudio. Co-hosted “Unity\\nin VR for research” workshop, and taught 20+ graduate students the basics of\\nUnity engine.\\nCognitive Science Association at UCI\\nSecretary\\nJune 2024\\xa0-\\xa0Present\\xa0(1 year 2 months)\\nIrvine, California, United States\\nMaintained accurate records of meetings minutes, facilitating communication\\nand accountability within the organization, and hosted events that contribute to\\nthe cognitive science community at UCI.\\nGió Nam Múa Lân (Southern Wind Lion Dance)\\nCoordinator\\nSeptember 2024\\xa0-\\xa0Present\\xa0(11 months)\\nIrvine, California, United States\\nOversee all logistical aspects of the team, from handling clients to scheduling\\nperformers, ensuring professionalism and quality of performances.\\nUCI Center for Student Leadership\\nSPOP Orientation Leader\\nApril 2023\\xa0-\\xa0October 2024\\xa0(1 year 7 months)\\nCalifornia, United States\\n\\xa0 Page 2 of 3\\xa0 \\xa0\\nProvided guidance and introduced campus resources to 5000+ new students\\nover the course of 7 orientation sessions, including acting as resident advisor\\nfor dorms of 50+ students in the overnight program\\nUC Irvine Athletics\\nEvent Staff\\nOctober 2022\\xa0-\\xa0September 2023\\xa0(1 year)\\nUnited States\\nCoordinated with head coaches and student athletes to ensure smooth\\noperation of games\\nFoon Yew High School 宽柔中学\\nVice President of Drama Club\\nJune 2018\\xa0-\\xa0December 2021\\xa0(3 years 7 months)\\nMalaysia\\nServed 100+ club members.\\nEducation\\nUC Irvine\\nBachelor of Science - BS,\\xa0Cognitive Science\\xa0·\\xa0(September 2022\\xa0-\\xa0June 2026)\\nFoon Yew High School 宽柔中学\\nHigh School Diploma,\\xa0Sciences\\xa0·\\xa0(January 2019\\xa0-\\xa0December 2021)\\n\\xa0 Page 3 of 3\\n\\nWith this context, please chat with the user, always staying in character as Qianying Wong.\""
      ]
     },
     "execution_count": 7,
     "metadata": {},
     "output_type": "execute_result"
    }
   ],
   "source": [
    "system_prompt"
   ]
  },
  {
   "cell_type": "code",
   "execution_count": 8,
   "metadata": {},
   "outputs": [],
   "source": [
    "# Defines the chat function that will be used by Gradio\n",
    "def chat(message, history):  # history is dictionaries in list format\n",
    "    messages = [{\"role\": \"system\", \"content\": system_prompt}] + history + [{\"role\": \"user\", \"content\": message}]\n",
    "    # remember that + concatenates, so everything is actually in the same list\n",
    "    response = openai.chat.completions.create(model=\"gpt-4o-mini\", messages=messages)\n",
    "    return response.choices[0].message.content"
   ]
  },
  {
   "cell_type": "code",
   "execution_count": 17,
   "metadata": {},
   "outputs": [
    {
     "name": "stdout",
     "output_type": "stream",
     "text": [
      "* Running on local URL:  http://127.0.0.1:7860\n",
      "* To create a public link, set `share=True` in `launch()`.\n"
     ]
    },
    {
     "data": {
      "text/html": [
       "<div><iframe src=\"http://127.0.0.1:7860/\" width=\"100%\" height=\"500\" allow=\"autoplay; camera; microphone; clipboard-read; clipboard-write;\" frameborder=\"0\" allowfullscreen></iframe></div>"
      ],
      "text/plain": [
       "<IPython.core.display.HTML object>"
      ]
     },
     "metadata": {},
     "output_type": "display_data"
    },
    {
     "data": {
      "text/plain": []
     },
     "execution_count": 17,
     "metadata": {},
     "output_type": "execute_result"
    }
   ],
   "source": [
    "gr.ChatInterface(chat, type=\"messages\").launch()"
   ]
  },
  {
   "cell_type": "markdown",
   "metadata": {},
   "source": [
    "## A lot is about to happen...\n",
    "\n",
    "1. Be able to ask an LLM to evaluate an answer\n",
    "2. Be able to rerun if the answer fails evaluation\n",
    "3. Put this together into 1 workflow\n",
    "\n",
    "All without any Agentic framework!"
   ]
  },
  {
   "cell_type": "code",
   "execution_count": null,
   "metadata": {},
   "outputs": [],
   "source": [
    "# Create a Pydantic model for the Evaluation\n",
    "# Pydantic is a framework for specifying schemas\n",
    "# structured output for evaluation using evaluation output optimizer\n",
    "\n",
    "from pydantic import BaseModel\n",
    "\n",
    "class Evaluation(BaseModel):  # Evaluation is a subclass of BaseModel\n",
    "    is_acceptable: bool\n",
    "    feedback: str\n"
   ]
  },
  {
   "cell_type": "code",
   "execution_count": 19,
   "metadata": {},
   "outputs": [],
   "source": [
    "evaluator_system_prompt = f\"You are an evaluator that decides whether a response to a question is acceptable. \\\n",
    "You are provided with a conversation between a User and an Agent. Your task is to decide whether the Agent's latest response is acceptable quality. \\\n",
    "The Agent is playing the role of {name} and is representing {name} on their website. \\\n",
    "The Agent has been instructed to be professional and engaging, as if talking to a potential client or future employer who came across the website. \\\n",
    "The Agent has been provided with context on {name} in the form of their summary and LinkedIn details. Here's the information:\"\n",
    "\n",
    "evaluator_system_prompt += f\"\\n\\n## Summary:\\n{summary}\\n\\n## LinkedIn Profile:\\n{linkedin}\\n\\n\"\n",
    "evaluator_system_prompt += f\"With this context, please evaluate the latest response, replying with whether the response is acceptable and your feedback.\""
   ]
  },
  {
   "cell_type": "code",
   "execution_count": 20,
   "metadata": {},
   "outputs": [],
   "source": [
    "def evaluator_user_prompt(reply, message, history):\n",
    "    user_prompt = f\"Here's the conversation between the User and the Agent: \\n\\n{history}\\n\\n\"\n",
    "    user_prompt += f\"Here's the latest message from the User: \\n\\n{message}\\n\\n\"\n",
    "    user_prompt += f\"Here's the latest response from the Agent: \\n\\n{reply}\\n\\n\"\n",
    "    user_prompt += \"Please evaluate the response, replying with whether it is acceptable and your feedback.\"\n",
    "    return user_prompt"
   ]
  },
  {
   "cell_type": "code",
   "execution_count": 21,
   "metadata": {},
   "outputs": [],
   "source": [
    "import os\n",
    "openai = OpenAI(\n",
    "    # api_key=os.getenv(\"OPENAI_API_KEY\"), \n",
    "    # base_url=\"https://generativelanguage.googleapis.com/v1beta/openai/\"\n",
    ")"
   ]
  },
  {
   "cell_type": "code",
   "execution_count": null,
   "metadata": {},
   "outputs": [],
   "source": [
    "def evaluate(reply, message, history) -> Evaluation:\n",
    "\n",
    "    messages = [{\"role\": \"system\", \"content\": evaluator_system_prompt}] + [{\"role\": \"user\", \"content\": evaluator_user_prompt(reply, message, history)}]\n",
    "    response = openai.beta.chat.completions.parse(  \n",
    "        # must use parse to get the Evaluation model, cannot use create\n",
    "        model=\"gpt-4o\",\n",
    "        messages=messages,\n",
    "        response_format=Evaluation\n",
    "        )\n",
    "    return response.choices[0].message.parsed"
   ]
  },
  {
   "cell_type": "code",
   "execution_count": 23,
   "metadata": {},
   "outputs": [],
   "source": [
    "messages = [{\"role\": \"system\", \"content\": system_prompt}] + [{\"role\": \"user\", \"content\": \"do you hold a patent?\"}]\n",
    "response = openai.chat.completions.create(model=\"gpt-4o-mini\", messages=messages)\n",
    "reply = response.choices[0].message.content"
   ]
  },
  {
   "cell_type": "code",
   "execution_count": 24,
   "metadata": {},
   "outputs": [
    {
     "data": {
      "text/plain": [
       "'I currently do not hold any patents. My focus has been on gaining experience and developing my skills in cognitive science, computer science, and related fields through internships and research projects. If you have any other questions about my work or background, feel free to ask!'"
      ]
     },
     "execution_count": 24,
     "metadata": {},
     "output_type": "execute_result"
    }
   ],
   "source": [
    "reply"
   ]
  },
  {
   "cell_type": "code",
   "execution_count": 25,
   "metadata": {},
   "outputs": [
    {
     "data": {
      "text/plain": [
       "Evaluation(is_acceptable=True, feedback=\"The response is acceptable as it directly answers the user's question with clarity and honesty. The agent, representing Qianying Wong, appropriately communicates that no patents are held while emphasizing the current focus on gaining experience and skill development. The agent also invites further questions, maintaining an engaging and professional tone.\")"
      ]
     },
     "execution_count": 25,
     "metadata": {},
     "output_type": "execute_result"
    }
   ],
   "source": [
    "evaluate(reply, \"do you hold a patent?\", messages[:1])\n",
    "# the history is passed in as the first message, so we only pass the first message"
   ]
  },
  {
   "cell_type": "code",
   "execution_count": 26,
   "metadata": {},
   "outputs": [],
   "source": [
    "def rerun(reply, message, history, feedback):  # if evaluation is rejected\n",
    "    updated_system_prompt = system_prompt + \"\\n\\n## Previous answer rejected\\nYou just tried to reply, but the quality control rejected your reply\\n\"\n",
    "    updated_system_prompt += f\"## Your attempted answer:\\n{reply}\\n\\n\"\n",
    "    updated_system_prompt += f\"## Reason for rejection:\\n{feedback}\\n\\n\"\n",
    "    messages = [{\"role\": \"system\", \"content\": updated_system_prompt}] + history + [{\"role\": \"user\", \"content\": message}]\n",
    "    response = openai.chat.completions.create(model=\"gpt-4o-mini\", messages=messages)\n",
    "    return response.choices[0].message.content"
   ]
  },
  {
   "cell_type": "code",
   "execution_count": null,
   "metadata": {},
   "outputs": [],
   "source": [
    "def chat(message, history):\n",
    "    if \"patent\" in message:\n",
    "        system = system_prompt + \"\\n\\nEverything in your reply needs to be in pig latin - \\\n",
    "              it is mandatory that you respond only and entirely in pig latin\"\n",
    "            # silly example to show how you can change the system prompt based on the message (pig latin)\n",
    "    else:\n",
    "        system = system_prompt\n",
    "    messages = [{\"role\": \"system\", \"content\": system}] + history + [{\"role\": \"user\", \"content\": message}]\n",
    "    response = openai.chat.completions.create(model=\"gpt-4o-mini\", messages=messages)\n",
    "    reply =response.choices[0].message.content\n",
    "\n",
    "    evaluation = evaluate(reply, message, history)\n",
    "    \n",
    "    if evaluation.is_acceptable:\n",
    "        print(\"Passed evaluation - returning reply\")\n",
    "    else:\n",
    "        print(\"Failed evaluation - retrying\")\n",
    "        print(evaluation.feedback)\n",
    "        reply = rerun(reply, message, history, evaluation.feedback)       \n",
    "    return reply"
   ]
  },
  {
   "cell_type": "code",
   "execution_count": null,
   "metadata": {},
   "outputs": [
    {
     "name": "stdout",
     "output_type": "stream",
     "text": [
      "* Running on local URL:  http://127.0.0.1:7861\n",
      "* To create a public link, set `share=True` in `launch()`.\n"
     ]
    },
    {
     "data": {
      "text/html": [
       "<div><iframe src=\"http://127.0.0.1:7861/\" width=\"100%\" height=\"500\" allow=\"autoplay; camera; microphone; clipboard-read; clipboard-write;\" frameborder=\"0\" allowfullscreen></iframe></div>"
      ],
      "text/plain": [
       "<IPython.core.display.HTML object>"
      ]
     },
     "metadata": {},
     "output_type": "display_data"
    },
    {
     "data": {
      "text/plain": []
     },
     "execution_count": 28,
     "metadata": {},
     "output_type": "execute_result"
    },
    {
     "name": "stdout",
     "output_type": "stream",
     "text": [
      "Passed evaluation - returning reply\n",
      "Failed evaluation - retrying\n",
      "The response is not acceptable. The agent responded in Pig Latin, which is unprofessional and not appropriate for a website representing Qianying Wong to potential clients or employers. Additionally, the response lacks any relevant information or a professional tone. The response should be clear, straightforward, and in standard English to maintain the professional and engaging tone expected of a representative of Qianying Wong.\n",
      "Passed evaluation - returning reply\n",
      "Passed evaluation - returning reply\n"
     ]
    }
   ],
   "source": [
    "gr.ChatInterface(chat, type=\"messages\").launch()"
   ]
  },
  {
   "cell_type": "markdown",
   "metadata": {},
   "source": []
  },
  {
   "cell_type": "code",
   "execution_count": null,
   "metadata": {},
   "outputs": [],
   "source": []
  }
 ],
 "metadata": {
  "kernelspec": {
   "display_name": "agents",
   "language": "python",
   "name": "python3"
  },
  "language_info": {
   "codemirror_mode": {
    "name": "ipython",
    "version": 3
   },
   "file_extension": ".py",
   "mimetype": "text/x-python",
   "name": "python",
   "nbconvert_exporter": "python",
   "pygments_lexer": "ipython3",
   "version": "3.12.11"
  }
 },
 "nbformat": 4,
 "nbformat_minor": 2
}
